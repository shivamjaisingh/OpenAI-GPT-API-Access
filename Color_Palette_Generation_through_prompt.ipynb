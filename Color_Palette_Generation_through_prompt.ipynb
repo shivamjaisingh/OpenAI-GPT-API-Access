{
  "nbformat": 4,
  "nbformat_minor": 0,
  "metadata": {
    "colab": {
      "provenance": [],
      "toc_visible": true,
      "authorship_tag": "ABX9TyMeJ3ALrhBNE9qnN1cxe7G2"
    },
    "kernelspec": {
      "name": "python3",
      "display_name": "Python 3"
    },
    "language_info": {
      "name": "python"
    }
  },
  "cells": [
    {
      "cell_type": "code",
      "source": [
        "from IPython.display import HTML, display\n",
        "\n",
        "def set_css():\n",
        "  display(HTML('''\n",
        "  <style>\n",
        "    pre {\n",
        "        white-space: pre-wrap;\n",
        "    }\n",
        "  </style>\n",
        "  '''))\n",
        "get_ipython().events.register('pre_run_cell', set_css)\n",
        "\n",
        "from IPython.display import HTML, display\n",
        "\n",
        "def display_colors(colors):\n",
        "    display(HTML(\" \".join(\n",
        "        f\"{chr(9608) * 4}\"\n",
        "        for color in colors\n",
        "    )))"
      ],
      "metadata": {
        "id": "-hZt0FtPogop"
      },
      "execution_count": null,
      "outputs": []
    },
    {
      "cell_type": "code",
      "source": [
        "pip install \"openai<1\""
      ],
      "metadata": {
        "id": "JCL5FOJ70SDz"
      },
      "execution_count": null,
      "outputs": []
    },
    {
      "cell_type": "code",
      "source": [
        "import openai"
      ],
      "metadata": {
        "id": "8PuspmVn34iY"
      },
      "execution_count": null,
      "outputs": []
    },
    {
      "cell_type": "code",
      "source": [
        "from google.colab import userdata\n",
        "openai.api_key = userdata.get('openai.api_key')"
      ],
      "metadata": {
        "id": "Lj32-CPIzkli"
      },
      "execution_count": null,
      "outputs": []
    },
    {
      "cell_type": "code",
      "source": [
        "prompt_input = '''Generate a list of colors just their Hex code in a JSON Array\n",
        "format from the description. Make sure array just contains the hex code.\n",
        "Make sure number of colors is between 2 to 8.  Description : ''' + input (\"What type of color palette you want?\")\n",
        "\n",
        "\n",
        "# + input(\"Describe what color pallete you want!\")\n",
        "answer = openai.Completion.create(\n",
        "    model=\"gpt-3.5-turbo-instruct-0914\",\n",
        "    # model=\"gpt-4-turbo\",\n",
        "    prompt = prompt_input,\n",
        "    max_tokens= 300,\n",
        "    # echo= True\n",
        ")\n",
        "colors_json_result = answer.choices[0].text;\n",
        "print (answer[\"choices\"][0][\"text\"])\n",
        "print (type(answer.choices[0].text))\n",
        "colors = ast.literal_eval(colors_json_result)\n",
        "print(type(colors))\n",
        "print(colors)"
      ],
      "metadata": {
        "colab": {
          "base_uri": "https://localhost:8080/",
          "height": 173
        },
        "id": "D3yMnPHM39C9",
        "outputId": "90eb87c0-6498-4360-fd66-2eca15a388ec"
      },
      "execution_count": 224,
      "outputs": [
        {
          "output_type": "display_data",
          "data": {
            "text/plain": [
              "<IPython.core.display.HTML object>"
            ],
            "text/html": [
              "\n",
              "  <style>\n",
              "    pre {\n",
              "        white-space: pre-wrap;\n",
              "    }\n",
              "  </style>\n",
              "  "
            ]
          },
          "metadata": {}
        },
        {
          "output_type": "display_data",
          "data": {
            "text/plain": [
              "<IPython.core.display.HTML object>"
            ],
            "text/html": [
              "\n",
              "  <style>\n",
              "    pre {\n",
              "        white-space: pre-wrap;\n",
              "    }\n",
              "  </style>\n",
              "  "
            ]
          },
          "metadata": {}
        },
        {
          "output_type": "display_data",
          "data": {
            "text/plain": [
              "<IPython.core.display.HTML object>"
            ],
            "text/html": [
              "\n",
              "  <style>\n",
              "    pre {\n",
              "        white-space: pre-wrap;\n",
              "    }\n",
              "  </style>\n",
              "  "
            ]
          },
          "metadata": {}
        },
        {
          "output_type": "stream",
          "name": "stdout",
          "text": [
            "What type of color palette you want?Sunset in Milan\n",
            "\n",
            "\n",
            "['#FDA619', '#F57D38', '#E54826', '#C61355', '#950740', '#5E2525']\n",
            "\n",
            "\n",
            "<class 'str'>\n",
            "<class 'list'>\n",
            "['#FDA619', '#F57D38', '#E54826', '#C61355', '#950740', '#5E2525']\n"
          ]
        }
      ]
    },
    {
      "cell_type": "code",
      "source": [
        "import ast\n",
        "from IPython.display import Markdown, display, HTML\n",
        "\n",
        "colors = colors\n",
        "\n",
        "for x in colors:\n",
        "    html_string = \"<button style='height:30px; width: 1000px; background-color:\" + x +\"'>\"+ x +\"</button>\"\n",
        "    display(HTML(html_string))\n",
        "\n"
      ],
      "metadata": {
        "colab": {
          "base_uri": "https://localhost:8080/",
          "height": 197
        },
        "id": "T8MHq7nqfHV0",
        "outputId": "dc179c18-7f2a-4d9d-addf-8f9635f60460"
      },
      "execution_count": 225,
      "outputs": [
        {
          "output_type": "display_data",
          "data": {
            "text/plain": [
              "<IPython.core.display.HTML object>"
            ],
            "text/html": [
              "\n",
              "  <style>\n",
              "    pre {\n",
              "        white-space: pre-wrap;\n",
              "    }\n",
              "  </style>\n",
              "  "
            ]
          },
          "metadata": {}
        },
        {
          "output_type": "display_data",
          "data": {
            "text/plain": [
              "<IPython.core.display.HTML object>"
            ],
            "text/html": [
              "\n",
              "  <style>\n",
              "    pre {\n",
              "        white-space: pre-wrap;\n",
              "    }\n",
              "  </style>\n",
              "  "
            ]
          },
          "metadata": {}
        },
        {
          "output_type": "display_data",
          "data": {
            "text/plain": [
              "<IPython.core.display.HTML object>"
            ],
            "text/html": [
              "\n",
              "  <style>\n",
              "    pre {\n",
              "        white-space: pre-wrap;\n",
              "    }\n",
              "  </style>\n",
              "  "
            ]
          },
          "metadata": {}
        },
        {
          "output_type": "display_data",
          "data": {
            "text/plain": [
              "<IPython.core.display.HTML object>"
            ],
            "text/html": [
              "<button style='height:30px; width: 1000px; background-color:#FDA619'>#FDA619</button>"
            ]
          },
          "metadata": {}
        },
        {
          "output_type": "display_data",
          "data": {
            "text/plain": [
              "<IPython.core.display.HTML object>"
            ],
            "text/html": [
              "<button style='height:30px; width: 1000px; background-color:#F57D38'>#F57D38</button>"
            ]
          },
          "metadata": {}
        },
        {
          "output_type": "display_data",
          "data": {
            "text/plain": [
              "<IPython.core.display.HTML object>"
            ],
            "text/html": [
              "<button style='height:30px; width: 1000px; background-color:#E54826'>#E54826</button>"
            ]
          },
          "metadata": {}
        },
        {
          "output_type": "display_data",
          "data": {
            "text/plain": [
              "<IPython.core.display.HTML object>"
            ],
            "text/html": [
              "<button style='height:30px; width: 1000px; background-color:#C61355'>#C61355</button>"
            ]
          },
          "metadata": {}
        },
        {
          "output_type": "display_data",
          "data": {
            "text/plain": [
              "<IPython.core.display.HTML object>"
            ],
            "text/html": [
              "<button style='height:30px; width: 1000px; background-color:#950740'>#950740</button>"
            ]
          },
          "metadata": {}
        },
        {
          "output_type": "display_data",
          "data": {
            "text/plain": [
              "<IPython.core.display.HTML object>"
            ],
            "text/html": [
              "<button style='height:30px; width: 1000px; background-color:#5E2525'>#5E2525</button>"
            ]
          },
          "metadata": {}
        }
      ]
    }
  ]
}